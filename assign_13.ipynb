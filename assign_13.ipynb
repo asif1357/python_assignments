{
 "cells": [
  {
   "cell_type": "markdown",
   "id": "81313acf",
   "metadata": {},
   "source": [
    "# Assignment 13"
   ]
  },
  {
   "cell_type": "markdown",
   "id": "bda28443",
   "metadata": {},
   "source": [
    "1. Don’t have types for their values—everything is a string.Don’t have settings for font size or color.Don’t have multiple    worksheets.Can’t specify cell widths and heights.Can’t have merged cells.Can’t have images or charts embedded in them\n",
    "2. we pass the filename ex.(filename.csv)\n",
    "3. write mode - 'w',read mpde - 'r'\n",
    "4. writerow() method\n",
    "5. The delimiter is the character that appears between cells on a row. By default, the delimiter for a CSV file is a          comma. The line terminator is the character that comes at the end of a row. By default, the line terminator is newline.\n",
    "6. json.loads() method.\n",
    "7. json.dumps() method.\n"
   ]
  }
 ],
 "metadata": {
  "kernelspec": {
   "display_name": "Python 3 (ipykernel)",
   "language": "python",
   "name": "python3"
  },
  "language_info": {
   "codemirror_mode": {
    "name": "ipython",
    "version": 3
   },
   "file_extension": ".py",
   "mimetype": "text/x-python",
   "name": "python",
   "nbconvert_exporter": "python",
   "pygments_lexer": "ipython3",
   "version": "3.9.12"
  }
 },
 "nbformat": 4,
 "nbformat_minor": 5
}
