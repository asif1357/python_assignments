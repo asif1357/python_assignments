{
 "cells": [
  {
   "cell_type": "markdown",
   "id": "5dd790ee",
   "metadata": {},
   "source": [
    "# Assignment 11"
   ]
  },
  {
   "cell_type": "markdown",
   "id": "428e3da2",
   "metadata": {},
   "source": [
    "1. Write an assert statement that triggers an AssertionError if the variable spam is an integer less than 10. \n",
    "    Answer: assert(spam >= 10, 'The spam variable is less than 10.')\n",
    "\n",
    "2. Write an assert statement that triggers an AssertionError if the variables eggs and bacon contain strings that are the same as each other, even if their cases are different (that is, 'hello' and 'hello' are considered the same, and 'goodbye' and 'GOODbye' are also considered the same). \n",
    "    Answer: assert(eggs.lower() != bacon.lower(), 'The eggs and bacon variables are the same!') or assert(eggs.upper() !=     bacon.upper(), 'The eggs and bacon variables are the same!')\n",
    "\n",
    "3. Write an assert statement that always triggers an AssertionError. \n",
    "    Answer: assert(False, 'This assertion always triggers.')\n",
    "\n",
    "4. What are the two lines that your program must have in order to be able to call logging.debug()? \n",
    "    Answer: To be able to call logging.debug(), you must have these two lines at the start of your program: import logging logging.basicConfig(level=logging.DEBUG, format=' %(asctime)s - %(levelname)s - %(message)s')\n",
    "\n",
    "5. What are the two lines that your program must have in order to have logging.debug() send a logging message to a ﬁle named programLog.txt?\n",
    "    Answer: import logging logging.basicConfig(filename='programLog.txt', level=logging.DEBUG, format=' %(asctime)s - %(levelname)s - %(message)s')\n",
    "\n",
    "6. What are the ﬁve logging levels?\n",
    "    Answer: DEBUG, INFO, WARNING, ERROR, and CRITICAL\n",
    "7. What line of code can you add to disable all logging messages in your program? \n",
    "    Answer: logging.disable(logging.CRITICAL)\n",
    "8. Why is using logging messages better than using print() to display the same message? \n",
    "    Answer: You can disable logging messages without removing the logging function calls. You can selectively disable lower-level logging messages. You can create logging messages. Logging messages provides a timestamp.\n",
    "9. What are the differences between the Step, Over, and Out buttons in the Debug Control window? \n",
    "    Answer: The Step button will move the debugger into a function call. The Over button will quickly execute the function call without stepping into it. The Out button will quickly execute the rest of the code until it steps out of the function it currently is in.\n",
    "10. After you click Go in the Debug Control window, when will the debugger stop? \n",
    "    Answer: click Go, the debugger will stop when it has reached the end of the program or a line with a breakpoint.\n",
    "11. What is a breakpoint? \n",
    "    Answer: breakpoint is a setting on a line of code that causes the debugger to pause when the program execution reaches the line\n",
    "12. How do you set a breakpoint on a line of code in IDLE? \n",
    "    Answer: set a breakpoint in IDLE, right-click the line and select Set Breakpoint from the context menu."
   ]
  }
 ],
 "metadata": {
  "kernelspec": {
   "display_name": "Python 3 (ipykernel)",
   "language": "python",
   "name": "python3"
  },
  "language_info": {
   "codemirror_mode": {
    "name": "ipython",
    "version": 3
   },
   "file_extension": ".py",
   "mimetype": "text/x-python",
   "name": "python",
   "nbconvert_exporter": "python",
   "pygments_lexer": "ipython3",
   "version": "3.9.12"
  }
 },
 "nbformat": 4,
 "nbformat_minor": 5
}
