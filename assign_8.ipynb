{
 "cells": [
  {
   "cell_type": "markdown",
   "id": "c7b7fcb7",
   "metadata": {},
   "source": [
    "# Assignment 8"
   ]
  },
  {
   "cell_type": "markdown",
   "id": "1d875925",
   "metadata": {},
   "source": [
    "1. PyInputPlus is not a part of the Python Standard Library, we must install it separately using Pip\n",
    "2. for aliasing purpose\n",
    "3. inputInt() expects an integer value as input and inputFloat() expects a float value i.e number containing a decimal\n",
    "4. pyip.inputInt(min=0, max=99)\n",
    "5. A list of strings favourable or non favourable\n",
    "6. The function will raise RetryLimitException.\n",
    "7. returns the value 'hello'\n"
   ]
  }
 ],
 "metadata": {
  "kernelspec": {
   "display_name": "Python 3 (ipykernel)",
   "language": "python",
   "name": "python3"
  },
  "language_info": {
   "codemirror_mode": {
    "name": "ipython",
    "version": 3
   },
   "file_extension": ".py",
   "mimetype": "text/x-python",
   "name": "python",
   "nbconvert_exporter": "python",
   "pygments_lexer": "ipython3",
   "version": "3.9.12"
  }
 },
 "nbformat": 4,
 "nbformat_minor": 5
}
