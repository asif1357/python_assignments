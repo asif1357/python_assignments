{
 "cells": [
  {
   "cell_type": "markdown",
   "id": "b774d9e3",
   "metadata": {},
   "source": [
    "# Assignment 10"
   ]
  },
  {
   "cell_type": "markdown",
   "id": "da9a503f",
   "metadata": {},
   "source": [
    "1. The shutil.copy() function will copy a single file, while shutil.copytree() will copy an entire folder, along with all    its contents.\n",
    "2. The shutil.move() function is used for renaming files, as well as moving them\n",
    "3. The send2trash functions will move a file or folder to the recycle bin, while shutil functions will permanently delete    files and folders.\n",
    "4. The zipfile.ZipFile() function is equivalent to the open() function; the first argument is the filename, and the second    argument is the mode to open the ZIP file in (read, write, or append)."
   ]
  }
 ],
 "metadata": {
  "kernelspec": {
   "display_name": "Python 3 (ipykernel)",
   "language": "python",
   "name": "python3"
  },
  "language_info": {
   "codemirror_mode": {
    "name": "ipython",
    "version": 3
   },
   "file_extension": ".py",
   "mimetype": "text/x-python",
   "name": "python",
   "nbconvert_exporter": "python",
   "pygments_lexer": "ipython3",
   "version": "3.9.12"
  }
 },
 "nbformat": 4,
 "nbformat_minor": 5
}
