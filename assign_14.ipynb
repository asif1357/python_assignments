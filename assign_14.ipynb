{
 "cells": [
  {
   "cell_type": "markdown",
   "id": "b85fc722",
   "metadata": {},
   "source": [
    "# Assignment 14"
   ]
  },
  {
   "cell_type": "markdown",
   "id": "54fbf01d",
   "metadata": {},
   "source": [
    "1. RGBA color values are an extension of RGB color values with an alpha channel - which specifies the opacity for a color.\n",
    "2. 1) import the Image module from the Pillow library.\n",
    "  2) Open any image and get the RAGBAG values.\n",
    "3. The box. tuple submodule provides read-only access for the tuple userdata type. It allows, for a single tuple:            selective retrieval of the field contents, retrieval of information about size, iteration over all the fields, and        conversion to a Lua table. \n",
    "4. PIL.Image.open() is used to open the image and then .width and .height property of Image are used to get the height and    width of the image. The same results can be obtained by using .size property.\n",
    "5. The crop() method on Image objects takes a box tuple and returns an Image object representing the cropped image\n",
    "6. Image.save() Saves this image under the given filename\n",
    "7. Image and ImageDraw\n",
    "8. This object has several methods for drawing shapes and text onto an Image object. Store the ImageDraw object in            a variable like draw so you can use it easily8. "
   ]
  }
 ],
 "metadata": {
  "kernelspec": {
   "display_name": "Python 3 (ipykernel)",
   "language": "python",
   "name": "python3"
  },
  "language_info": {
   "codemirror_mode": {
    "name": "ipython",
    "version": 3
   },
   "file_extension": ".py",
   "mimetype": "text/x-python",
   "name": "python",
   "nbconvert_exporter": "python",
   "pygments_lexer": "ipython3",
   "version": "3.9.12"
  }
 },
 "nbformat": 4,
 "nbformat_minor": 5
}
