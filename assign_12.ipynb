{
 "cells": [
  {
   "cell_type": "markdown",
   "id": "e7e7a7d2",
   "metadata": {},
   "source": [
    "# Assignment 12"
   ]
  },
  {
   "cell_type": "markdown",
   "id": "0f2794aa",
   "metadata": {},
   "source": [
    "1. These files will be opened in binary mode., read binary (rb) for PdfFileREader() and write binary (wb) PdfFileWriter()\n",
    "2. Calling getPage(4) will return a Page object for page 5 since page 0 is the first page\n",
    "4. Before we obtain the page object, the pdf has to be decrypted by calling .decrypt('swordfish')\n",
    "5. rotateClockwise() and rotateCounterClockwise() methods\n",
    "6. Paragraph Object : A document contains multiple paragraphs. A paragraph begins on a new line and contains multiple        runs. The Document object contains a list of Paragraph objects for the paragraphs in the document. (A new paragraph        begins whenever the user presses ENTER or RETURN while typing in a Word document.)\n",
    "   Run Objects : Runs are contiguous groups of characters within a paragraph with the same style\n",
    "8.  A Run object has bold, underline,italic,strike and outline variables\n",
    "9. Runs can be further styled using text attributes. Each attribute can be set to one of three values:\n",
    "   True (the attribute is always enabled, no matter what other styles are applied to the run),\n",
    "   False (the attribute is always disabled),\n",
    "   None (defaults to whatever the run’s style is set to)\n",
    "\n",
    "   True always makes the Run object bolded and False makes it always not bolded, no matter what the style’s bold setting      is. None will make the Run object just use the style’s bold setting\n",
    "10. By Calling the docx.Document() function.\n",
    "12. integer from 0 to 4\n",
    "    The arguments to add_heading() are a string of the heading text and an integer from 0 to 4. The integer 0 makes the       heading the Title style, which is used for the top of the document. Integers 1 to 4 are for various heading levels,       with 1 being the main heading and 4 the lowest subheading "
   ]
  }
 ],
 "metadata": {
  "kernelspec": {
   "display_name": "Python 3 (ipykernel)",
   "language": "python",
   "name": "python3"
  },
  "language_info": {
   "codemirror_mode": {
    "name": "ipython",
    "version": 3
   },
   "file_extension": ".py",
   "mimetype": "text/x-python",
   "name": "python",
   "nbconvert_exporter": "python",
   "pygments_lexer": "ipython3",
   "version": "3.9.12"
  }
 },
 "nbformat": 4,
 "nbformat_minor": 5
}
